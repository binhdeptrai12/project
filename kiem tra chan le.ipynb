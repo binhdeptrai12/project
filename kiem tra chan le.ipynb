{
 "cells": [
  {
   "cell_type": "code",
   "execution_count": 2,
   "id": "53220fc1-c292-4081-bd3e-66786e932350",
   "metadata": {},
   "outputs": [
    {
     "name": "stdin",
     "output_type": "stream",
     "text": [
      "nhap so nguyen bat ki 2\n"
     ]
    },
    {
     "name": "stdout",
     "output_type": "stream",
     "text": [
      "so chan\n"
     ]
    }
   ],
   "source": [
    "so_nguyen = int(input('nhap so nguyen bat ki'))\n",
    "\n",
    "if so_nguyen%2 == 0:\n",
    "    print('so chan')\n",
    "else:\n",
    "    print('so le')"
   ]
  },
  {
   "cell_type": "code",
   "execution_count": null,
   "id": "b687717b-c8ad-46bb-960a-0f0ff4820091",
   "metadata": {},
   "outputs": [],
   "source": []
  }
 ],
 "metadata": {
  "kernelspec": {
   "display_name": "Python 3 (ipykernel)",
   "language": "python",
   "name": "python3"
  },
  "language_info": {
   "codemirror_mode": {
    "name": "ipython",
    "version": 3
   },
   "file_extension": ".py",
   "mimetype": "text/x-python",
   "name": "python",
   "nbconvert_exporter": "python",
   "pygments_lexer": "ipython3",
   "version": "3.11.3"
  }
 },
 "nbformat": 4,
 "nbformat_minor": 5
}
