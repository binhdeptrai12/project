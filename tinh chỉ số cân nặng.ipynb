{
 "cells": [
  {
   "cell_type": "code",
   "execution_count": null,
   "id": "0db8cea5-9be7-44eb-828e-a78b7002d6b3",
   "metadata": {},
   "outputs": [],
   "source": [
    "cao = float(input('nhập chiều cao(m)'))\n",
    "while cao > 3:\n",
    "    print('chiều cao là m')\n",
    "    cao = float(input('nhập chiều cao(m)'))\n",
    "nang = int(input('nhập cân nặng (kg)'))\n",
    "BMI = nang/(cao**2)\n",
    "print(BMI)\n",
    "if BMI < 16:\n",
    "    print('Gầy cấp độ III')\n",
    "elif BMI <17:\n",
    "    print('Gầy cấp độ II')\n",
    "elif BMI < 18.5:\n",
    "    print('Gầy cấp độ I')\n",
    "elif BMI <25:\n",
    "    print('Bình thường')\n",
    "elif BMI <30:\n",
    "    print('Thừa cân')\n",
    "elif BMI <35:\n",
    "    print('Béo phì cấp độ I')\n",
    "elif BMI<40:\n",
    "    print('Béo phì cấp độ II')\n",
    "else:\n",
    "    print('Béo phì cấp độ III')"
   ]
  },
  {
   "cell_type": "code",
   "execution_count": null,
   "id": "4ed16def-de22-4e37-83a8-6618bcd662bd",
   "metadata": {},
   "outputs": [],
   "source": []
  }
 ],
 "metadata": {
  "kernelspec": {
   "display_name": "Python 3 (ipykernel)",
   "language": "python",
   "name": "python3"
  },
  "language_info": {
   "codemirror_mode": {
    "name": "ipython",
    "version": 3
   },
   "file_extension": ".py",
   "mimetype": "text/x-python",
   "name": "python",
   "nbconvert_exporter": "python",
   "pygments_lexer": "ipython3",
   "version": "3.11.3"
  }
 },
 "nbformat": 4,
 "nbformat_minor": 5
}
