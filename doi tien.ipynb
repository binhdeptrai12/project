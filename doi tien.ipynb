{
 "cells": [
  {
   "cell_type": "code",
   "execution_count": 1,
   "id": "c44fa225-00fd-428e-a883-4d992bb26404",
   "metadata": {},
   "outputs": [
    {
     "name": "stdin",
     "output_type": "stream",
     "text": [
      "nhap so tien usd 2\n",
      "nhap ti gia usd/vnd 20000\n"
     ]
    },
    {
     "name": "stdout",
     "output_type": "stream",
     "text": [
      "40000\n"
     ]
    }
   ],
   "source": [
    "usd = int(input('nhap so tien usd'))\n",
    "ti_gia = int(input('nhap ti gia usd/vnd'))\n",
    "vnd = usd*ti_gia\n",
    "print(vnd)"
   ]
  },
  {
   "cell_type": "code",
   "execution_count": null,
   "id": "d3ce92d9-099a-4cc2-8224-6926a8f6874a",
   "metadata": {},
   "outputs": [],
   "source": []
  }
 ],
 "metadata": {
  "kernelspec": {
   "display_name": "Python 3 (ipykernel)",
   "language": "python",
   "name": "python3"
  },
  "language_info": {
   "codemirror_mode": {
    "name": "ipython",
    "version": 3
   },
   "file_extension": ".py",
   "mimetype": "text/x-python",
   "name": "python",
   "nbconvert_exporter": "python",
   "pygments_lexer": "ipython3",
   "version": "3.11.3"
  }
 },
 "nbformat": 4,
 "nbformat_minor": 5
}
