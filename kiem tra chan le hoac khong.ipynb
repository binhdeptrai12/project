{
 "cells": [
  {
   "cell_type": "code",
   "execution_count": null,
   "id": "40a859bc-a7bf-4117-b1c1-9d43e2295b14",
   "metadata": {},
   "outputs": [],
   "source": [
    "so_nguyen = int(input('nhap so nguyen bat ki'))\n",
    "\n",
    "if so_nguyen%2 == 0:\n",
    "    print('so chan')\n",
    "elif so_nguyen%2 == 1:\n",
    "    print('so le')\n",
    "else:\n",
    "    print('khong phai so tu nhien')"
   ]
  }
 ],
 "metadata": {
  "kernelspec": {
   "display_name": "Python 3 (ipykernel)",
   "language": "python",
   "name": "python3"
  },
  "language_info": {
   "codemirror_mode": {
    "name": "ipython",
    "version": 3
   },
   "file_extension": ".py",
   "mimetype": "text/x-python",
   "name": "python",
   "nbconvert_exporter": "python",
   "pygments_lexer": "ipython3",
   "version": "3.11.3"
  }
 },
 "nbformat": 4,
 "nbformat_minor": 5
}
