{
 "cells": [
  {
   "cell_type": "code",
   "execution_count": null,
   "id": "05e98182-34a7-4488-918b-a154154f3939",
   "metadata": {},
   "outputs": [],
   "source": [
    "print('Ten : Nguyen THanh Binh')\n",
    "print(\"tuoi: 25\")\n",
    "print('hoc vien khoa: python co ban')"
   ]
  }
 ],
 "metadata": {
  "kernelspec": {
   "display_name": "Python 3 (ipykernel)",
   "language": "python",
   "name": "python3"
  },
  "language_info": {
   "codemirror_mode": {
    "name": "ipython",
    "version": 3
   },
   "file_extension": ".py",
   "mimetype": "text/x-python",
   "name": "python",
   "nbconvert_exporter": "python",
   "pygments_lexer": "ipython3",
   "version": "3.11.3"
  }
 },
 "nbformat": 4,
 "nbformat_minor": 5
}
