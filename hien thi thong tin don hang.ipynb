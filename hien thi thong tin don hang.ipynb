{
 "cells": [
  {
   "cell_type": "code",
   "execution_count": 3,
   "id": "25abd623-0fc1-46f9-8010-b6fbac17c522",
   "metadata": {},
   "outputs": [
    {
     "name": "stdin",
     "output_type": "stream",
     "text": [
      "nhap so tien chi 125\n"
     ]
    },
    {
     "name": "stdout",
     "output_type": "stream",
     "text": [
      "so tien phai thanh toan 100 $\n"
     ]
    }
   ],
   "source": [
    "so_tien = int(input('nhap so tien chi'))\n",
    "thanh_toan = 0\n",
    "if so_tien >= 150:\n",
    "    thanh_toan = so_tien - 50\n",
    "\n",
    "elif so_tien >= 100:\n",
    "    thanh_toan = so_tien - 25\n",
    "\n",
    "elif so_tien >= 75:\n",
    "    thanh_toan = so_tien - 15\n",
    "\n",
    "elif so_tien >= 0:\n",
    "    thanh_toan = so_tien \n",
    "else:\n",
    "    print('so tien phai la so nguyen duong')\n",
    "\n",
    "print('so tien phai thanh toan', thanh_toan,'$')"
   ]
  },
  {
   "cell_type": "code",
   "execution_count": null,
   "id": "0f47e8be-d328-4f93-aa5d-cff3c716b23d",
   "metadata": {},
   "outputs": [],
   "source": []
  }
 ],
 "metadata": {
  "kernelspec": {
   "display_name": "Python 3 (ipykernel)",
   "language": "python",
   "name": "python3"
  },
  "language_info": {
   "codemirror_mode": {
    "name": "ipython",
    "version": 3
   },
   "file_extension": ".py",
   "mimetype": "text/x-python",
   "name": "python",
   "nbconvert_exporter": "python",
   "pygments_lexer": "ipython3",
   "version": "3.11.3"
  }
 },
 "nbformat": 4,
 "nbformat_minor": 5
}
