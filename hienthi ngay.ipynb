{
 "cells": [
  {
   "cell_type": "code",
   "execution_count": 1,
   "id": "c39968b8-1137-4f35-a3cc-2614241737b7",
   "metadata": {},
   "outputs": [
    {
     "name": "stdin",
     "output_type": "stream",
     "text": [
      "nhap so bat ki 8\n"
     ]
    },
    {
     "name": "stdout",
     "output_type": "stream",
     "text": [
      "error, out of range\n"
     ]
    }
   ],
   "source": [
    "so = int(input('nhap so bat ki'))\n",
    "\n",
    "if so==1:\n",
    "    print( 'Monday')\n",
    "elif so==2:\n",
    "    print(' Tuesday')\n",
    "elif so == 3:\n",
    "    print(' Wednesday')\n",
    "elif so == 4:\n",
    "    print(' Thursday')\n",
    "elif so == 5:\n",
    "    print(' Friday')\n",
    "elif so == 6:\n",
    "    print(' Saturday')\n",
    "elif so == 7:\n",
    "    print(' Sunday')\n",
    "else:\n",
    "    print('error, out of range')"
   ]
  },
  {
   "cell_type": "code",
   "execution_count": null,
   "id": "96aa6c82-6152-4c39-8996-18b02ffe960a",
   "metadata": {},
   "outputs": [],
   "source": []
  }
 ],
 "metadata": {
  "kernelspec": {
   "display_name": "Python 3 (ipykernel)",
   "language": "python",
   "name": "python3"
  },
  "language_info": {
   "codemirror_mode": {
    "name": "ipython",
    "version": 3
   },
   "file_extension": ".py",
   "mimetype": "text/x-python",
   "name": "python",
   "nbconvert_exporter": "python",
   "pygments_lexer": "ipython3",
   "version": "3.11.3"
  }
 },
 "nbformat": 4,
 "nbformat_minor": 5
}
